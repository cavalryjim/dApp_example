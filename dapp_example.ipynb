{
 "cells": [
  {
   "cell_type": "markdown",
   "id": "7f6a0ac9",
   "metadata": {},
   "source": [
    "## Interacting with a Smart Contract using Python"
   ]
  },
  {
   "cell_type": "code",
   "execution_count": 1,
   "id": "1cef7d15",
   "metadata": {},
   "outputs": [],
   "source": [
    "from web3 import Web3\n",
    "import json"
   ]
  },
  {
   "cell_type": "markdown",
   "id": "fb6c79c8",
   "metadata": {},
   "source": [
    "Connect to local Ethereum node (Ganache)\n",
    "\n",
    "If needed, you may need to install via `$ npm install ganache --global`"
   ]
  },
  {
   "cell_type": "code",
   "execution_count": 2,
   "id": "cbec4558",
   "metadata": {},
   "outputs": [],
   "source": [
    "ganache_url = \"http://127.0.0.1:8545\"\n",
    "web3 = Web3(Web3.HTTPProvider(ganache_url))"
   ]
  },
  {
   "cell_type": "code",
   "execution_count": 3,
   "id": "6d250195",
   "metadata": {},
   "outputs": [
    {
     "name": "stdout",
     "output_type": "stream",
     "text": [
      "Connected to the local Ethereum (Ganche) network: True\n"
     ]
    }
   ],
   "source": [
    "print(f\"Connected to the local Ethereum (Ganche) network: {web3.is_connected()}\")"
   ]
  },
  {
   "cell_type": "markdown",
   "id": "024d52a3",
   "metadata": {},
   "source": [
    "Set the default account (the first account Ganache provides)"
   ]
  },
  {
   "cell_type": "code",
   "execution_count": 4,
   "id": "e3941811",
   "metadata": {},
   "outputs": [],
   "source": [
    "web3.eth.default_account = web3.eth.accounts[0]"
   ]
  },
  {
   "cell_type": "markdown",
   "id": "2ffb1005",
   "metadata": {},
   "source": [
    "The ABI (Application Binary Interface) and bytecode were compiled from a previously written smart contract about renting a Yacht.  Read the information from the appropriate files."
   ]
  },
  {
   "cell_type": "code",
   "execution_count": 5,
   "id": "31b6d9b3",
   "metadata": {},
   "outputs": [],
   "source": [
    "with open('ABI', 'rb') as a:\n",
    "    abi = json.loads(a.read())\n",
    "with open('Bytecode') as b:\n",
    "    bytecode = b.read()"
   ]
  },
  {
   "cell_type": "markdown",
   "id": "607a974b",
   "metadata": {},
   "source": [
    "Deploy the contract."
   ]
  },
  {
   "cell_type": "code",
   "execution_count": 6,
   "id": "fcdbec4a",
   "metadata": {},
   "outputs": [],
   "source": [
    "YachtRental = web3.eth.contract(abi=abi, bytecode=bytecode)\n",
    "tx_hash = YachtRental.constructor().transact()\n",
    "tx_receipt = web3.eth.wait_for_transaction_receipt(tx_hash)\n",
    "contract_address = tx_receipt.contractAddress"
   ]
  },
  {
   "cell_type": "code",
   "execution_count": 7,
   "id": "6a61bb1a",
   "metadata": {},
   "outputs": [
    {
     "data": {
      "text/plain": [
       "'0xB844886bbDdb263b5f3Ed63bD45C58307b1aea13'"
      ]
     },
     "execution_count": 7,
     "metadata": {},
     "output_type": "execute_result"
    }
   ],
   "source": [
    "contract_address"
   ]
  },
  {
   "cell_type": "markdown",
   "id": "ad48d01f",
   "metadata": {},
   "source": [
    "Interact with the deployed contract"
   ]
  },
  {
   "cell_type": "code",
   "execution_count": 8,
   "id": "0a5192ea",
   "metadata": {},
   "outputs": [],
   "source": [
    "yacht_rental = web3.eth.contract(address=contract_address, abi=abi)"
   ]
  },
  {
   "cell_type": "code",
   "execution_count": 9,
   "id": "ae02e40d",
   "metadata": {},
   "outputs": [
    {
     "data": {
      "text/plain": [
       "<web3._utils.datatypes.Contract at 0x120ff0620>"
      ]
     },
     "execution_count": 9,
     "metadata": {},
     "output_type": "execute_result"
    }
   ],
   "source": [
    "yacht_rental"
   ]
  },
  {
   "cell_type": "markdown",
   "id": "97bba986",
   "metadata": {},
   "source": [
    "Check the availability of the Yacht."
   ]
  },
  {
   "cell_type": "code",
   "execution_count": 10,
   "id": "ae9a07f2",
   "metadata": {},
   "outputs": [
    {
     "name": "stdout",
     "output_type": "stream",
     "text": [
      "Is the yacht available? True\n"
     ]
    }
   ],
   "source": [
    "availability = yacht_rental.functions.available().call()\n",
    "print(f\"Is the yacht available? {availability}\")"
   ]
  },
  {
   "cell_type": "markdown",
   "id": "776ab50e",
   "metadata": {},
   "source": [
    "Obtain the daily rate and book the yacht for 2 days and send the appropriate amount of Ether"
   ]
  },
  {
   "cell_type": "code",
   "execution_count": 11,
   "id": "35d5c6b1",
   "metadata": {},
   "outputs": [],
   "source": [
    "num_days = 2\n",
    "daily_rate = yacht_rental.functions.ratePerDay().call()\n",
    "total_cost = num_days * daily_rate"
   ]
  },
  {
   "cell_type": "code",
   "execution_count": 12,
   "id": "b02a24ac",
   "metadata": {},
   "outputs": [
    {
     "data": {
      "text/plain": [
       "AttributeDict({'transactionHash': HexBytes('0xb471e5d2419198183f07dfccf4b714401a500ecf989621ab62e53cde77bd35ef'),\n",
       " 'transactionIndex': 0,\n",
       " 'blockNumber': 4,\n",
       " 'blockHash': HexBytes('0xcef57f3080e4e497ac577d71b979fec6080cd5252077a9cff7befd221344b22d'),\n",
       " 'from': '0x4d4602B286e231E1B9852b6a443E36367E81078E',\n",
       " 'to': '0xB844886bbDdb263b5f3Ed63bD45C58307b1aea13',\n",
       " 'cumulativeGasUsed': 38795,\n",
       " 'gasUsed': 38795,\n",
       " 'contractAddress': None,\n",
       " 'logs': [AttributeDict({'address': '0xB844886bbDdb263b5f3Ed63bD45C58307b1aea13',\n",
       "   'blockHash': HexBytes('0xcef57f3080e4e497ac577d71b979fec6080cd5252077a9cff7befd221344b22d'),\n",
       "   'blockNumber': 4,\n",
       "   'data': HexBytes('0x00000000000000000000000000000000000000000000000000000000000000200000000000000000000000000000000000000000000000000000000000000016596163687420686173206265656e20626f6f6b65642e00000000000000000000'),\n",
       "   'logIndex': 0,\n",
       "   'removed': False,\n",
       "   'topics': [HexBytes('0x0738f4da267a110d810e6e89fc59e46be6de0c37b1d5cd559b267dc3688e74e0'),\n",
       "    HexBytes('0x0000000000000000000000004d4602b286e231e1b9852b6a443e36367e81078e')],\n",
       "   'transactionHash': HexBytes('0xb471e5d2419198183f07dfccf4b714401a500ecf989621ab62e53cde77bd35ef'),\n",
       "   'transactionIndex': 0})],\n",
       " 'logsBloom': HexBytes('0x00000000000000000000000000000000008000000080000000000000000000000000000200000000000000000000010000000000000000000000000002100080000040000000000000010000000000000000000000000000000000000000000000000000000000000000000000000000000000000000000000000000000000000000000000000000000000000000000000000000000000000000000000000000000000000000000000000000000000000000000000000000000000000000000000000000000000000000000000000000000000000000000000000000000000000000000000000000000000000000000000000000000000000000000000000000'),\n",
       " 'status': 1,\n",
       " 'effectiveGasPrice': 751480567,\n",
       " 'type': 2})"
      ]
     },
     "execution_count": 12,
     "metadata": {},
     "output_type": "execute_result"
    }
   ],
   "source": [
    "tx_hash = yacht_rental.functions.bookYacht(num_days).transact({'value': total_cost})\n",
    "web3.eth.wait_for_transaction_receipt(tx_hash)"
   ]
  },
  {
   "cell_type": "markdown",
   "id": "bff6fdb1",
   "metadata": {},
   "source": [
    "Check the avialability"
   ]
  },
  {
   "cell_type": "code",
   "execution_count": 13,
   "id": "67102d6e",
   "metadata": {},
   "outputs": [
    {
     "name": "stdout",
     "output_type": "stream",
     "text": [
      "Is the yacht available after booking? False\n"
     ]
    }
   ],
   "source": [
    "availability = yacht_rental.functions.available().call()\n",
    "print(f\"Is the yacht available after booking? {availability}\")"
   ]
  },
  {
   "cell_type": "code",
   "execution_count": null,
   "id": "8f754384",
   "metadata": {},
   "outputs": [],
   "source": []
  }
 ],
 "metadata": {
  "kernelspec": {
   "display_name": "dapp_example",
   "language": "python",
   "name": "dapp_example"
  },
  "language_info": {
   "codemirror_mode": {
    "name": "ipython",
    "version": 3
   },
   "file_extension": ".py",
   "mimetype": "text/x-python",
   "name": "python",
   "nbconvert_exporter": "python",
   "pygments_lexer": "ipython3",
   "version": "3.12.4"
  }
 },
 "nbformat": 4,
 "nbformat_minor": 5
}
